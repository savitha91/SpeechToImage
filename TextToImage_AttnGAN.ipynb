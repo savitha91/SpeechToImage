{
  "nbformat": 4,
  "nbformat_minor": 0,
  "metadata": {
    "colab": {
      "name": "AttnGAN_CorrectedPy3.ipynb",
      "provenance": [],
      "collapsed_sections": []
    },
    "kernelspec": {
      "name": "python3",
      "display_name": "Python 3"
    },
    "accelerator": "GPU"
  },
  "cells": [
    {
      "cell_type": "code",
      "metadata": {
        "id": "GSMkcAxVSjII",
        "colab_type": "code",
        "colab": {
          "base_uri": "https://localhost:8080/",
          "height": 102
        },
        "outputId": "42a68ad8-ea28-4860-92d5-9273ce640b09"
      },
      "source": [
        "! git clone https://github.com/davidstap/AttnGAN.git"
      ],
      "execution_count": null,
      "outputs": [
        {
          "output_type": "stream",
          "text": [
            "Cloning into 'AttnGAN'...\n",
            "remote: Enumerating objects: 315, done.\u001b[K\n",
            "remote: Total 315 (delta 0), reused 0 (delta 0), pack-reused 315\u001b[K\n",
            "Receiving objects: 100% (315/315), 36.76 MiB | 7.64 MiB/s, done.\n",
            "Resolving deltas: 100% (186/186), done.\n"
          ],
          "name": "stdout"
        }
      ]
    },
    {
      "cell_type": "code",
      "metadata": {
        "id": "pTvCPKlTS2b6",
        "colab_type": "code",
        "colab": {
          "base_uri": "https://localhost:8080/",
          "height": 462
        },
        "outputId": "ee828aa3-496c-4d26-a6db-13539f8d2abc"
      },
      "source": [
        "!pip install python-dateutil\n",
        "!pip install easydict\n",
        "!pip install pandas\n",
        "!pip install torchfile\n",
        "!pip install nltk\n",
        "!pip install scikit-image\n"
      ],
      "execution_count": null,
      "outputs": [
        {
          "output_type": "stream",
          "text": [
            "Requirement already satisfied: python-dateutil in /usr/local/lib/python3.6/dist-packages (2.8.1)\n",
            "Requirement already satisfied: six>=1.5 in /usr/local/lib/python3.6/dist-packages (from python-dateutil) (1.15.0)\n",
            "Requirement already satisfied: easydict in /usr/local/lib/python3.6/dist-packages (1.9)\n",
            "Requirement already satisfied: pandas in /usr/local/lib/python3.6/dist-packages (1.0.5)\n",
            "Requirement already satisfied: numpy>=1.13.3 in /usr/local/lib/python3.6/dist-packages (from pandas) (1.18.5)\n",
            "Requirement already satisfied: pytz>=2017.2 in /usr/local/lib/python3.6/dist-packages (from pandas) (2018.9)\n",
            "Requirement already satisfied: python-dateutil>=2.6.1 in /usr/local/lib/python3.6/dist-packages (from pandas) (2.8.1)\n",
            "Requirement already satisfied: six>=1.5 in /usr/local/lib/python3.6/dist-packages (from python-dateutil>=2.6.1->pandas) (1.15.0)\n",
            "Requirement already satisfied: torchfile in /usr/local/lib/python3.6/dist-packages (0.1.0)\n",
            "Requirement already satisfied: nltk in /usr/local/lib/python3.6/dist-packages (3.2.5)\n",
            "Requirement already satisfied: six in /usr/local/lib/python3.6/dist-packages (from nltk) (1.15.0)\n",
            "Requirement already satisfied: scikit-image in /usr/local/lib/python3.6/dist-packages (0.16.2)\n",
            "Requirement already satisfied: matplotlib!=3.0.0,>=2.0.0 in /usr/local/lib/python3.6/dist-packages (from scikit-image) (3.2.2)\n",
            "Requirement already satisfied: scipy>=0.19.0 in /usr/local/lib/python3.6/dist-packages (from scikit-image) (1.4.1)\n",
            "Requirement already satisfied: pillow>=4.3.0 in /usr/local/lib/python3.6/dist-packages (from scikit-image) (7.0.0)\n",
            "Requirement already satisfied: networkx>=2.0 in /usr/local/lib/python3.6/dist-packages (from scikit-image) (2.4)\n",
            "Requirement already satisfied: imageio>=2.3.0 in /usr/local/lib/python3.6/dist-packages (from scikit-image) (2.4.1)\n",
            "Requirement already satisfied: PyWavelets>=0.4.0 in /usr/local/lib/python3.6/dist-packages (from scikit-image) (1.1.1)\n",
            "Requirement already satisfied: pyparsing!=2.0.4,!=2.1.2,!=2.1.6,>=2.0.1 in /usr/local/lib/python3.6/dist-packages (from matplotlib!=3.0.0,>=2.0.0->scikit-image) (2.4.7)\n",
            "Requirement already satisfied: numpy>=1.11 in /usr/local/lib/python3.6/dist-packages (from matplotlib!=3.0.0,>=2.0.0->scikit-image) (1.18.5)\n",
            "Requirement already satisfied: cycler>=0.10 in /usr/local/lib/python3.6/dist-packages (from matplotlib!=3.0.0,>=2.0.0->scikit-image) (0.10.0)\n",
            "Requirement already satisfied: python-dateutil>=2.1 in /usr/local/lib/python3.6/dist-packages (from matplotlib!=3.0.0,>=2.0.0->scikit-image) (2.8.1)\n",
            "Requirement already satisfied: kiwisolver>=1.0.1 in /usr/local/lib/python3.6/dist-packages (from matplotlib!=3.0.0,>=2.0.0->scikit-image) (1.2.0)\n",
            "Requirement already satisfied: decorator>=4.3.0 in /usr/local/lib/python3.6/dist-packages (from networkx>=2.0->scikit-image) (4.4.2)\n",
            "Requirement already satisfied: six in /usr/local/lib/python3.6/dist-packages (from cycler>=0.10->matplotlib!=3.0.0,>=2.0.0->scikit-image) (1.15.0)\n"
          ],
          "name": "stdout"
        }
      ]
    },
    {
      "cell_type": "code",
      "metadata": {
        "id": "04ceMv1TTQuD",
        "colab_type": "code",
        "colab": {
          "base_uri": "https://localhost:8080/",
          "height": 34
        },
        "outputId": "b6736525-6f98-4be4-dd62-0a4be4be5d30"
      },
      "source": [
        "%cd /content/AttnGAN/DAMSMencoders/"
      ],
      "execution_count": null,
      "outputs": [
        {
          "output_type": "stream",
          "text": [
            "/content/AttnGAN/DAMSMencoders\n"
          ],
          "name": "stdout"
        }
      ]
    },
    {
      "cell_type": "code",
      "metadata": {
        "id": "irvQoR8tT5WP",
        "colab_type": "code",
        "colab": {
          "base_uri": "https://localhost:8080/",
          "height": 479
        },
        "outputId": "0e34490a-70a5-4364-9caf-20ebbb082b97"
      },
      "source": [
        "# DAMSM pre-trained model for COCO dataset\n",
        "!wget --load-cookies /tmp/cookies.txt \"https://docs.google.com/uc?export=download&confirm=$(wget --quiet --save-cookies /tmp/cookies.txt --keep-session-cookies --no-check-certificate 'https://docs.google.com/uc?export=download&id=1zIrXCE9F6yfbEJIbNP5-YrEe2pZcPSGJ' -O- | sed -rn 's/.*confirm=([0-9A-Za-z_]+).*/\\1\\n/p')&id=1zIrXCE9F6yfbEJIbNP5-YrEe2pZcPSGJ\" -O coco.zip && rm -rf /tmp/cookies.txt\n",
        "!unzip coco.zip"
      ],
      "execution_count": null,
      "outputs": [
        {
          "output_type": "stream",
          "text": [
            "--2020-08-03 13:27:16--  https://docs.google.com/uc?export=download&confirm=g84a&id=1zIrXCE9F6yfbEJIbNP5-YrEe2pZcPSGJ\n",
            "Resolving docs.google.com (docs.google.com)... 74.125.133.113, 74.125.133.139, 74.125.133.101, ...\n",
            "Connecting to docs.google.com (docs.google.com)|74.125.133.113|:443... connected.\n",
            "HTTP request sent, awaiting response... 302 Moved Temporarily\n",
            "Location: https://doc-10-3g-docs.googleusercontent.com/docs/securesc/ee2kivuqho4n3cl6s7oq5kctutp0usq6/ahkrlns7ncam998mcotog61ppu5qi8of/1596461175000/09657060183789739732/12452775099639356587Z/1zIrXCE9F6yfbEJIbNP5-YrEe2pZcPSGJ?e=download [following]\n",
            "--2020-08-03 13:27:17--  https://doc-10-3g-docs.googleusercontent.com/docs/securesc/ee2kivuqho4n3cl6s7oq5kctutp0usq6/ahkrlns7ncam998mcotog61ppu5qi8of/1596461175000/09657060183789739732/12452775099639356587Z/1zIrXCE9F6yfbEJIbNP5-YrEe2pZcPSGJ?e=download\n",
            "Resolving doc-10-3g-docs.googleusercontent.com (doc-10-3g-docs.googleusercontent.com)... 74.125.133.132, 2a00:1450:400c:c07::84\n",
            "Connecting to doc-10-3g-docs.googleusercontent.com (doc-10-3g-docs.googleusercontent.com)|74.125.133.132|:443... connected.\n",
            "HTTP request sent, awaiting response... 302 Found\n",
            "Location: https://docs.google.com/nonceSigner?nonce=4o7eak371nnf2&continue=https://doc-10-3g-docs.googleusercontent.com/docs/securesc/ee2kivuqho4n3cl6s7oq5kctutp0usq6/ahkrlns7ncam998mcotog61ppu5qi8of/1596461175000/09657060183789739732/12452775099639356587Z/1zIrXCE9F6yfbEJIbNP5-YrEe2pZcPSGJ?e%3Ddownload&hash=vmqo35dfdh9khtrtm5efnnm69se4keh3 [following]\n",
            "--2020-08-03 13:27:17--  https://docs.google.com/nonceSigner?nonce=4o7eak371nnf2&continue=https://doc-10-3g-docs.googleusercontent.com/docs/securesc/ee2kivuqho4n3cl6s7oq5kctutp0usq6/ahkrlns7ncam998mcotog61ppu5qi8of/1596461175000/09657060183789739732/12452775099639356587Z/1zIrXCE9F6yfbEJIbNP5-YrEe2pZcPSGJ?e%3Ddownload&hash=vmqo35dfdh9khtrtm5efnnm69se4keh3\n",
            "Connecting to docs.google.com (docs.google.com)|74.125.133.113|:443... connected.\n",
            "HTTP request sent, awaiting response... 302 Found\n",
            "Location: https://doc-10-3g-docs.googleusercontent.com/docs/securesc/ee2kivuqho4n3cl6s7oq5kctutp0usq6/ahkrlns7ncam998mcotog61ppu5qi8of/1596461175000/09657060183789739732/12452775099639356587Z/1zIrXCE9F6yfbEJIbNP5-YrEe2pZcPSGJ?e=download&nonce=4o7eak371nnf2&user=12452775099639356587Z&hash=iunfaap2nq5pg3jinrspqvrdodh8bic0 [following]\n",
            "--2020-08-03 13:27:17--  https://doc-10-3g-docs.googleusercontent.com/docs/securesc/ee2kivuqho4n3cl6s7oq5kctutp0usq6/ahkrlns7ncam998mcotog61ppu5qi8of/1596461175000/09657060183789739732/12452775099639356587Z/1zIrXCE9F6yfbEJIbNP5-YrEe2pZcPSGJ?e=download&nonce=4o7eak371nnf2&user=12452775099639356587Z&hash=iunfaap2nq5pg3jinrspqvrdodh8bic0\n",
            "Connecting to doc-10-3g-docs.googleusercontent.com (doc-10-3g-docs.googleusercontent.com)|74.125.133.132|:443... connected.\n",
            "HTTP request sent, awaiting response... 200 OK\n",
            "Length: unspecified [application/zip]\n",
            "Saving to: ‘coco.zip’\n",
            "\n",
            "coco.zip                [   <=>              ] 110.45M   235MB/s    in 0.5s    \n",
            "\n",
            "2020-08-03 13:27:18 (235 MB/s) - ‘coco.zip’ saved [115811251]\n",
            "\n",
            "Archive:  coco.zip\n",
            "replace coco/image_encoder100.pth? [y]es, [n]o, [A]ll, [N]one, [r]ename: N\n"
          ],
          "name": "stdout"
        }
      ]
    },
    {
      "cell_type": "code",
      "metadata": {
        "id": "3CZ39x-0T75I",
        "colab_type": "code",
        "colab": {
          "base_uri": "https://localhost:8080/",
          "height": 462
        },
        "outputId": "947534ff-ec57-4ea9-ef69-1565acbf617f"
      },
      "source": [
        "# Pre-trained cooc_AttnGan2\n",
        "%cd ../models/\n",
        "!wget --load-cookies /tmp/cookies.txt \"https://docs.google.com/uc?export=download&confirm=$(wget --quiet --save-cookies /tmp/cookies.txt --keep-session-cookies --no-check-certificate 'https://docs.google.com/uc?export=download&id=1i9Xkg9nU74RAvkcqKE-rJYhjvzKAMnCi' -O- | sed -rn 's/.*confirm=([0-9A-Za-z_]+).*/\\1\\n/p')&id=1i9Xkg9nU74RAvkcqKE-rJYhjvzKAMnCi\" -O coco_AttnGAN2.pth && rm -rf /tmp/cookies.txt"
      ],
      "execution_count": null,
      "outputs": [
        {
          "output_type": "stream",
          "text": [
            "/content/AttnGAN/models\n",
            "--2020-08-03 13:27:50--  https://docs.google.com/uc?export=download&confirm=&id=1i9Xkg9nU74RAvkcqKE-rJYhjvzKAMnCi\n",
            "Resolving docs.google.com (docs.google.com)... 74.125.133.102, 74.125.133.113, 74.125.133.101, ...\n",
            "Connecting to docs.google.com (docs.google.com)|74.125.133.102|:443... connected.\n",
            "HTTP request sent, awaiting response... 302 Moved Temporarily\n",
            "Location: https://doc-04-1k-docs.googleusercontent.com/docs/securesc/cgqovbmgu8p3i1sfd0kp90up8lplgulb/hbiu6kqsbpgh7f5i3chnd65f8dbftm3e/1596461250000/09657060183789739732/01031812506855669496Z/1i9Xkg9nU74RAvkcqKE-rJYhjvzKAMnCi?e=download [following]\n",
            "--2020-08-03 13:27:51--  https://doc-04-1k-docs.googleusercontent.com/docs/securesc/cgqovbmgu8p3i1sfd0kp90up8lplgulb/hbiu6kqsbpgh7f5i3chnd65f8dbftm3e/1596461250000/09657060183789739732/01031812506855669496Z/1i9Xkg9nU74RAvkcqKE-rJYhjvzKAMnCi?e=download\n",
            "Resolving doc-04-1k-docs.googleusercontent.com (doc-04-1k-docs.googleusercontent.com)... 74.125.133.132, 2a00:1450:400c:c07::84\n",
            "Connecting to doc-04-1k-docs.googleusercontent.com (doc-04-1k-docs.googleusercontent.com)|74.125.133.132|:443... connected.\n",
            "HTTP request sent, awaiting response... 302 Found\n",
            "Location: https://docs.google.com/nonceSigner?nonce=kb8m9ajvtf618&continue=https://doc-04-1k-docs.googleusercontent.com/docs/securesc/cgqovbmgu8p3i1sfd0kp90up8lplgulb/hbiu6kqsbpgh7f5i3chnd65f8dbftm3e/1596461250000/09657060183789739732/01031812506855669496Z/1i9Xkg9nU74RAvkcqKE-rJYhjvzKAMnCi?e%3Ddownload&hash=5aao4m6a3trklnu1utggm7gt5q6cfqj4 [following]\n",
            "--2020-08-03 13:27:51--  https://docs.google.com/nonceSigner?nonce=kb8m9ajvtf618&continue=https://doc-04-1k-docs.googleusercontent.com/docs/securesc/cgqovbmgu8p3i1sfd0kp90up8lplgulb/hbiu6kqsbpgh7f5i3chnd65f8dbftm3e/1596461250000/09657060183789739732/01031812506855669496Z/1i9Xkg9nU74RAvkcqKE-rJYhjvzKAMnCi?e%3Ddownload&hash=5aao4m6a3trklnu1utggm7gt5q6cfqj4\n",
            "Connecting to docs.google.com (docs.google.com)|74.125.133.102|:443... connected.\n",
            "HTTP request sent, awaiting response... 302 Found\n",
            "Location: https://doc-04-1k-docs.googleusercontent.com/docs/securesc/cgqovbmgu8p3i1sfd0kp90up8lplgulb/hbiu6kqsbpgh7f5i3chnd65f8dbftm3e/1596461250000/09657060183789739732/01031812506855669496Z/1i9Xkg9nU74RAvkcqKE-rJYhjvzKAMnCi?e=download&nonce=kb8m9ajvtf618&user=01031812506855669496Z&hash=utgchcdktf5rjl2e7tr0a8m2foqgapb2 [following]\n",
            "--2020-08-03 13:27:51--  https://doc-04-1k-docs.googleusercontent.com/docs/securesc/cgqovbmgu8p3i1sfd0kp90up8lplgulb/hbiu6kqsbpgh7f5i3chnd65f8dbftm3e/1596461250000/09657060183789739732/01031812506855669496Z/1i9Xkg9nU74RAvkcqKE-rJYhjvzKAMnCi?e=download&nonce=kb8m9ajvtf618&user=01031812506855669496Z&hash=utgchcdktf5rjl2e7tr0a8m2foqgapb2\n",
            "Connecting to doc-04-1k-docs.googleusercontent.com (doc-04-1k-docs.googleusercontent.com)|74.125.133.132|:443... connected.\n",
            "HTTP request sent, awaiting response... 200 OK\n",
            "Length: unspecified [application/octet-stream]\n",
            "Saving to: ‘coco_AttnGAN2.pth’\n",
            "\n",
            "coco_AttnGAN2.pth       [  <=>               ]  52.91M   212MB/s    in 0.2s    \n",
            "\n",
            "2020-08-03 13:27:51 (212 MB/s) - ‘coco_AttnGAN2.pth’ saved [55482326]\n",
            "\n"
          ],
          "name": "stdout"
        }
      ]
    },
    {
      "cell_type": "code",
      "metadata": {
        "id": "IDOXwxeBT-wA",
        "colab_type": "code",
        "colab": {
          "base_uri": "https://localhost:8080/",
          "height": 904
        },
        "outputId": "a9391b45-4761-4f80-fcc2-fd36d2604466"
      },
      "source": [
        "#COCO dataset : contains pickle file, example_caption.txt, example_filenames.txt\n",
        "%cd ../data/\n",
        "!wget --load-cookies /tmp/cookies.txt \"https://docs.google.com/uc?export=download&confirm=$(wget --quiet --save-cookies /tmp/cookies.txt --keep-session-cookies --no-check-certificate 'https://docs.google.com/uc?export=download&id=1rSnbIGNDGZeHlsUlLdahj0RJ9oo6lgH9' -O- | sed -rn 's/.*confirm=([0-9A-Za-z_]+).*/\\1\\n/p')&id=1rSnbIGNDGZeHlsUlLdahj0RJ9oo6lgH9\" -O coco.zip && rm -rf /tmp/cookies.txt\n",
        "\n",
        "!unzip /content/AttnGAN/data/coco.zip"
      ],
      "execution_count": null,
      "outputs": [
        {
          "output_type": "stream",
          "text": [
            "/content/AttnGAN/data\n",
            "--2020-08-03 13:28:04--  https://docs.google.com/uc?export=download&confirm=5I2V&id=1rSnbIGNDGZeHlsUlLdahj0RJ9oo6lgH9\n",
            "Resolving docs.google.com (docs.google.com)... 173.194.76.139, 173.194.76.100, 173.194.76.101, ...\n",
            "Connecting to docs.google.com (docs.google.com)|173.194.76.139|:443... connected.\n",
            "HTTP request sent, awaiting response... 302 Moved Temporarily\n",
            "Location: https://doc-0g-0o-docs.googleusercontent.com/docs/securesc/9dmideca69n3scrmneq157a3d1dg2hbh/0mqbn48sj17j31rh45iusidnr3cdggoa/1596461250000/09657060183789739732/07804809295366020323Z/1rSnbIGNDGZeHlsUlLdahj0RJ9oo6lgH9?e=download [following]\n",
            "--2020-08-03 13:28:04--  https://doc-0g-0o-docs.googleusercontent.com/docs/securesc/9dmideca69n3scrmneq157a3d1dg2hbh/0mqbn48sj17j31rh45iusidnr3cdggoa/1596461250000/09657060183789739732/07804809295366020323Z/1rSnbIGNDGZeHlsUlLdahj0RJ9oo6lgH9?e=download\n",
            "Resolving doc-0g-0o-docs.googleusercontent.com (doc-0g-0o-docs.googleusercontent.com)... 74.125.133.132, 2a00:1450:400c:c07::84\n",
            "Connecting to doc-0g-0o-docs.googleusercontent.com (doc-0g-0o-docs.googleusercontent.com)|74.125.133.132|:443... connected.\n",
            "HTTP request sent, awaiting response... 302 Found\n",
            "Location: https://docs.google.com/nonceSigner?nonce=9h2p9c4bmjd0g&continue=https://doc-0g-0o-docs.googleusercontent.com/docs/securesc/9dmideca69n3scrmneq157a3d1dg2hbh/0mqbn48sj17j31rh45iusidnr3cdggoa/1596461250000/09657060183789739732/07804809295366020323Z/1rSnbIGNDGZeHlsUlLdahj0RJ9oo6lgH9?e%3Ddownload&hash=u02n8idro4u9822tleurmv5km332bsrj [following]\n",
            "--2020-08-03 13:28:04--  https://docs.google.com/nonceSigner?nonce=9h2p9c4bmjd0g&continue=https://doc-0g-0o-docs.googleusercontent.com/docs/securesc/9dmideca69n3scrmneq157a3d1dg2hbh/0mqbn48sj17j31rh45iusidnr3cdggoa/1596461250000/09657060183789739732/07804809295366020323Z/1rSnbIGNDGZeHlsUlLdahj0RJ9oo6lgH9?e%3Ddownload&hash=u02n8idro4u9822tleurmv5km332bsrj\n",
            "Connecting to docs.google.com (docs.google.com)|173.194.76.139|:443... connected.\n",
            "HTTP request sent, awaiting response... 302 Found\n",
            "Location: https://doc-0g-0o-docs.googleusercontent.com/docs/securesc/9dmideca69n3scrmneq157a3d1dg2hbh/0mqbn48sj17j31rh45iusidnr3cdggoa/1596461250000/09657060183789739732/07804809295366020323Z/1rSnbIGNDGZeHlsUlLdahj0RJ9oo6lgH9?e=download&nonce=9h2p9c4bmjd0g&user=07804809295366020323Z&hash=ndc5156uaop8kj6j27qabvoqj7k41vo3 [following]\n",
            "--2020-08-03 13:28:04--  https://doc-0g-0o-docs.googleusercontent.com/docs/securesc/9dmideca69n3scrmneq157a3d1dg2hbh/0mqbn48sj17j31rh45iusidnr3cdggoa/1596461250000/09657060183789739732/07804809295366020323Z/1rSnbIGNDGZeHlsUlLdahj0RJ9oo6lgH9?e=download&nonce=9h2p9c4bmjd0g&user=07804809295366020323Z&hash=ndc5156uaop8kj6j27qabvoqj7k41vo3\n",
            "Connecting to doc-0g-0o-docs.googleusercontent.com (doc-0g-0o-docs.googleusercontent.com)|74.125.133.132|:443... connected.\n",
            "HTTP request sent, awaiting response... 200 OK\n",
            "Length: unspecified [application/zip]\n",
            "Saving to: ‘coco.zip’\n",
            "\n",
            "coco.zip                [ <=>                ]  31.72M   160MB/s    in 0.2s    \n",
            "\n",
            "2020-08-03 13:28:05 (160 MB/s) - ‘coco.zip’ saved [33261945]\n",
            "\n",
            "Archive:  /content/AttnGAN/data/coco.zip\n",
            "   creating: coco/\n",
            "  inflating: coco/.DS_Store          \n",
            "   creating: __MACOSX/\n",
            "   creating: __MACOSX/coco/\n",
            "  inflating: __MACOSX/coco/._.DS_Store  \n",
            "  inflating: coco/captions.pickle    \n",
            "  inflating: coco/example_captions.txt  \n",
            "  inflating: __MACOSX/coco/._example_captions.txt  \n",
            "  inflating: coco/example_filenames.txt  \n",
            "  inflating: __MACOSX/coco/._example_filenames.txt  \n",
            "  inflating: coco/interpolate_captions.txt  \n",
            "  inflating: coco/readme.txt         \n",
            "  inflating: __MACOSX/coco/._readme.txt  \n",
            "   creating: coco/test/\n",
            "  inflating: coco/test/.DS_Store     \n",
            "   creating: __MACOSX/coco/test/\n",
            "  inflating: __MACOSX/coco/test/._.DS_Store  \n",
            "  inflating: coco/test/filenames.pickle  \n",
            "   creating: coco/train/\n",
            "  inflating: coco/train/.DS_Store    \n",
            "   creating: __MACOSX/coco/train/\n",
            "  inflating: __MACOSX/coco/train/._.DS_Store  \n",
            "  inflating: coco/train/filenames.pickle  \n",
            "  inflating: coco/train2014-text.zip  \n",
            "  inflating: coco/val2014-text.zip   \n"
          ],
          "name": "stdout"
        }
      ]
    },
    {
      "cell_type": "code",
      "metadata": {
        "id": "LmJ_p7IOUBB4",
        "colab_type": "code",
        "colab": {
          "base_uri": "https://localhost:8080/",
          "height": 785
        },
        "outputId": "399f582c-321b-4431-dc91-ec0647118f1c"
      },
      "source": [
        "!python /content/AttnGAN/code/main.py --cfg /content/AttnGAN/code/cfg/eval_coco.yml --gpu 0"
      ],
      "execution_count": 22,
      "outputs": [
        {
          "output_type": "stream",
          "text": [
            "Using config:\n",
            "{'B_VALIDATION': False,\n",
            " 'CONFIG_NAME': 'attn2',\n",
            " 'CUDA': True,\n",
            " 'DATASET_NAME': 'coco',\n",
            " 'DATA_DIR': '../data/coco',\n",
            " 'GAN': {'B_ATTENTION': True,\n",
            "         'B_DCGAN': False,\n",
            "         'CONDITION_DIM': 100,\n",
            "         'DF_DIM': 96,\n",
            "         'GF_DIM': 48,\n",
            "         'R_NUM': 3,\n",
            "         'Z_DIM': 100},\n",
            " 'GPU_ID': 0,\n",
            " 'RNN_TYPE': 'LSTM',\n",
            " 'TEXT': {'CAPTIONS_PER_IMAGE': 5, 'EMBEDDING_DIM': 256, 'WORDS_NUM': 20},\n",
            " 'TRAIN': {'BATCH_SIZE': 100,\n",
            "           'B_NET_D': False,\n",
            "           'DISCRIMINATOR_LR': 0.0002,\n",
            "           'ENCODER_LR': 0.0002,\n",
            "           'FLAG': False,\n",
            "           'GENERATOR_LR': 0.0002,\n",
            "           'MAX_EPOCH': 600,\n",
            "           'NET_E': '../DAMSMencoders/coco/text_encoder100.pth',\n",
            "           'NET_G': '../models/coco_AttnGAN2.pth',\n",
            "           'RNN_GRAD_CLIP': 0.25,\n",
            "           'SMOOTH': {'GAMMA1': 5.0,\n",
            "                      'GAMMA2': 5.0,\n",
            "                      'GAMMA3': 10.0,\n",
            "                      'LAMBDA': 1.0},\n",
            "           'SNAPSHOT_INTERVAL': 2000},\n",
            " 'TREE': {'BASE_SIZE': 64, 'BRANCH_NUM': 3},\n",
            " 'WORKERS': 1}\n",
            "Load filenames from: ../data/coco/train/filenames.pickle (82783)\n",
            "Load filenames from: ../data/coco/test/filenames.pickle (40470)\n",
            "Load from:  ../data/coco/captions.pickle\n",
            "Load from: MyText\n",
            "/usr/local/lib/python3.6/dist-packages/torch/nn/modules/rnn.py:60: UserWarning: dropout option adds dropout after all but last recurrent layer, so non-zero dropout expects num_layers greater than 1, but got dropout=0.5 and num_layers=1\n",
            "  \"num_layers={}\".format(dropout, num_layers))\n",
            "Load text encoder from: ../DAMSMencoders/coco/text_encoder100.pth\n",
            "Load G from:  ../models/coco_AttnGAN2.pth\n",
            "/content/AttnGAN/code/miscc/utils.py:239: RuntimeWarning: invalid value encountered in true_divide\n",
            "  one_map = (one_map - minV) / (maxV - minV)\n",
            "Total time for training: 18.722166538238525\n"
          ],
          "name": "stdout"
        }
      ]
    },
    {
      "cell_type": "code",
      "metadata": {
        "id": "rs7ekwcvUp0I",
        "colab_type": "code",
        "colab": {}
      },
      "source": [
        ""
      ],
      "execution_count": null,
      "outputs": []
    }
  ]
}